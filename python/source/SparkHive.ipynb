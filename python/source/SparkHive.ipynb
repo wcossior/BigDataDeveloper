{
 "cells": [
  {
   "cell_type": "code",
   "execution_count": 1,
   "id": "24878e2c-c21c-4cae-9ef7-5c5d35489582",
   "metadata": {
    "tags": []
   },
   "outputs": [
    {
     "name": "stdout",
     "output_type": "stream",
     "text": [
      "Requirement already satisfied: pyspark in /usr/local/lib/python3.9/site-packages (3.5.1)\n",
      "Requirement already satisfied: py4j==0.10.9.7 in /usr/local/lib/python3.9/site-packages (from pyspark) (0.10.9.7)\n",
      "\u001b[33mWARNING: Running pip as the 'root' user can result in broken permissions and conflicting behaviour with the system package manager. It is recommended to use a virtual environment instead: https://pip.pypa.io/warnings/venv\u001b[0m\u001b[33m\n",
      "\u001b[0m\n",
      "\u001b[1m[\u001b[0m\u001b[34;49mnotice\u001b[0m\u001b[1;39;49m]\u001b[0m\u001b[39;49m A new release of pip is available: \u001b[0m\u001b[31;49m23.0.1\u001b[0m\u001b[39;49m -> \u001b[0m\u001b[32;49m24.0\u001b[0m\n",
      "\u001b[1m[\u001b[0m\u001b[34;49mnotice\u001b[0m\u001b[1;39;49m]\u001b[0m\u001b[39;49m To update, run: \u001b[0m\u001b[32;49mpip install --upgrade pip\u001b[0m\n"
     ]
    }
   ],
   "source": [
    "! pip install pyspark"
   ]
  },
  {
   "cell_type": "code",
   "execution_count": 1,
   "id": "e36c7fea-4530-45c4-891f-14ed7fabd9dc",
   "metadata": {
    "tags": []
   },
   "outputs": [],
   "source": [
    "\n",
    "from pyspark.sql.types import *\n",
    "from pyspark.sql.window import Window\n",
    "\n",
    "import pyspark.sql.functions as F\n",
    "from pyspark.sql.functions import udf, col"
   ]
  },
  {
   "cell_type": "code",
   "execution_count": 2,
   "id": "8b41148b-e7ca-4abb-ae59-d6bd91549ee8",
   "metadata": {
    "tags": []
   },
   "outputs": [
    {
     "name": "stderr",
     "output_type": "stream",
     "text": [
      "Warning: Ignoring non-Spark config property: hive.metastore.uris\n",
      "Setting default log level to \"WARN\".\n",
      "To adjust logging level use sc.setLogLevel(newLevel). For SparkR, use setLogLevel(newLevel).\n",
      "24/06/09 14:48:59 WARN NativeCodeLoader: Unable to load native-hadoop library for your platform... using builtin-java classes where applicable\n",
      "24/06/09 14:49:00 WARN Utils: Service 'SparkUI' could not bind on port 4040. Attempting port 4041.\n"
     ]
    }
   ],
   "source": [
    "from pyspark.sql import SparkSession\n",
    "\n",
    "spark = SparkSession.builder \\\n",
    "      .config(\"hive.metastore.uris\", \"thrift://172.27.1.8:9083\")\\\n",
    "      .config(\"spark.sql.warehouse.dir\", \"/user/hive/warehouse\")\\\n",
    "      .enableHiveSupport() \\\n",
    "      .getOrCreate() "
   ]
  },
  {
   "cell_type": "code",
   "execution_count": 14,
   "id": "7b0965ab-0f74-482b-9eef-cbe4beb4f8ae",
   "metadata": {
    "tags": []
   },
   "outputs": [
    {
     "name": "stdout",
     "output_type": "stream",
     "text": [
      "+-----------------+-------------+--------+---------------+\n",
      "|order_customer_id|   order_date|order_id|   order_status|\n",
      "+-----------------+-------------+--------+---------------+\n",
      "|            11599|1374710400000|       1|         CLOSED|\n",
      "|              256|1374710400000|       2|PENDING_PAYMENT|\n",
      "|            12111|1374710400000|       3|       COMPLETE|\n",
      "|             8827|1374710400000|       4|         CLOSED|\n",
      "|            11318|1374710400000|       5|       COMPLETE|\n",
      "|             7130|1374710400000|       6|       COMPLETE|\n",
      "|             4530|1374710400000|       7|       COMPLETE|\n",
      "|             2911|1374710400000|       8|     PROCESSING|\n",
      "|             5657|1374710400000|       9|PENDING_PAYMENT|\n",
      "|             5648|1374710400000|      10|PENDING_PAYMENT|\n",
      "|              918|1374710400000|      11| PAYMENT_REVIEW|\n",
      "|             1837|1374710400000|      12|         CLOSED|\n",
      "|             9149|1374710400000|      13|PENDING_PAYMENT|\n",
      "|             9842|1374710400000|      14|     PROCESSING|\n",
      "|             2568|1374710400000|      15|       COMPLETE|\n",
      "|             7276|1374710400000|      16|PENDING_PAYMENT|\n",
      "|             2667|1374710400000|      17|       COMPLETE|\n",
      "|             1205|1374710400000|      18|         CLOSED|\n",
      "|             9488|1374710400000|      19|PENDING_PAYMENT|\n",
      "|             9198|1374710400000|      20|     PROCESSING|\n",
      "+-----------------+-------------+--------+---------------+\n",
      "only showing top 20 rows\n",
      "\n"
     ]
    }
   ],
   "source": [
    "spark.sql(\"select * from retail_db.orders_avro\").show()"
   ]
  },
  {
   "cell_type": "code",
   "execution_count": 16,
   "id": "b349823b-1763-4fc9-b19f-79d40978b6fb",
   "metadata": {},
   "outputs": [
    {
     "name": "stdout",
     "output_type": "stream",
     "text": [
      "+-------------+--------------+--------------+-----------+--------------+-----------------+--------------+--------------------+----------------+\n",
      "|customer_city|customer_email|customer_fname|customer_id|customer_lname|customer_password|customer_state|     customer_street|customer_zipcode|\n",
      "+-------------+--------------+--------------+-----------+--------------+-----------------+--------------+--------------------+----------------+\n",
      "|  Brownsville|     XXXXXXXXX|       Richard|          1|     Hernandez|        XXXXXXXXX|            TX|  6303 Heather Plaza|           78521|\n",
      "|    Littleton|     XXXXXXXXX|          Mary|          2|       Barrett|        XXXXXXXXX|            CO|9526 Noble Embers...|           80126|\n",
      "|       Caguas|     XXXXXXXXX|           Ann|          3|         Smith|        XXXXXXXXX|            PR|3422 Blue Pioneer...|           00725|\n",
      "|   San Marcos|     XXXXXXXXX|          Mary|          4|         Jones|        XXXXXXXXX|            CA|  8324 Little Common|           92069|\n",
      "|       Caguas|     XXXXXXXXX|        Robert|          5|        Hudson|        XXXXXXXXX|            PR|10 Crystal River ...|           00725|\n",
      "|      Passaic|     XXXXXXXXX|          Mary|          6|         Smith|        XXXXXXXXX|            NJ|3151 Sleepy Quail...|           07055|\n",
      "|       Caguas|     XXXXXXXXX|       Melissa|          7|        Wilcox|        XXXXXXXXX|            PR|9453 High Concession|           00725|\n",
      "|     Lawrence|     XXXXXXXXX|         Megan|          8|         Smith|        XXXXXXXXX|            MA|3047 Foggy Forest...|           01841|\n",
      "|       Caguas|     XXXXXXXXX|          Mary|          9|         Perez|        XXXXXXXXX|            PR| 3616 Quaking Street|           00725|\n",
      "|     Stafford|     XXXXXXXXX|       Melissa|         10|         Smith|        XXXXXXXXX|            VA|8598 Harvest Beac...|           22554|\n",
      "|       Caguas|     XXXXXXXXX|          Mary|         11|       Huffman|        XXXXXXXXX|            PR|    3169 Stony Woods|           00725|\n",
      "|  San Antonio|     XXXXXXXXX|   Christopher|         12|         Smith|        XXXXXXXXX|            TX|5594 Jagged Ember...|           78227|\n",
      "|       Caguas|     XXXXXXXXX|          Mary|         13|       Baldwin|        XXXXXXXXX|            PR|7922 Iron Oak Gar...|           00725|\n",
      "|  Pico Rivera|     XXXXXXXXX|     Katherine|         14|         Smith|        XXXXXXXXX|            CA|5666 Hazy Pony Sq...|           90660|\n",
      "|      Fontana|     XXXXXXXXX|          Jane|         15|          Luna|        XXXXXXXXX|            CA|    673 Burning Glen|           92336|\n",
      "|       Caguas|     XXXXXXXXX|       Tiffany|         16|         Smith|        XXXXXXXXX|            PR|      6651 Iron Port|           00725|\n",
      "|       Taylor|     XXXXXXXXX|          Mary|         17|      Robinson|        XXXXXXXXX|            MI|     1325 Noble Pike|           48180|\n",
      "|     Martinez|     XXXXXXXXX|        Robert|         18|         Smith|        XXXXXXXXX|            CA|2734 Hazy Butterf...|           94553|\n",
      "|       Caguas|     XXXXXXXXX|     Stephanie|         19|      Mitchell|        XXXXXXXXX|            PR|3543 Red Treasure...|           00725|\n",
      "|West New York|     XXXXXXXXX|          Mary|         20|         Ellis|        XXXXXXXXX|            NJ|      4703 Old Route|           07093|\n",
      "+-------------+--------------+--------------+-----------+--------------+-----------------+--------------+--------------------+----------------+\n",
      "only showing top 20 rows\n",
      "\n"
     ]
    }
   ],
   "source": [
    "spark.sql('Select * from retail_db.customers_avro').show()"
   ]
  },
  {
   "cell_type": "code",
   "execution_count": 3,
   "id": "a9bdb92c-1c46-4c8e-ac7b-97ed6ad89286",
   "metadata": {
    "tags": []
   },
   "outputs": [
    {
     "name": "stderr",
     "output_type": "stream",
     "text": [
      "24/06/09 14:49:20 WARN SessionState: METASTORE_FILTER_HOOK will be ignored, since hive.security.authorization.manager is set to instance of HiveAuthorizerFactory.\n"
     ]
    },
    {
     "name": "stdout",
     "output_type": "stream",
     "text": [
      "+-------------+--------------+--------------+-----------+--------------+-----------------+--------------+---------------------------+----------------+\n",
      "|customer_city|customer_email|customer_fname|customer_id|customer_lname|customer_password|customer_state|customer_street            |customer_zipcode|\n",
      "+-------------+--------------+--------------+-----------+--------------+-----------------+--------------+---------------------------+----------------+\n",
      "|Brownsville  |XXXXXXXXX     |Richard       |1          |Hernandez     |XXXXXXXXX        |TX            |6303 Heather Plaza         |78521           |\n",
      "|Littleton    |XXXXXXXXX     |Mary          |2          |Barrett       |XXXXXXXXX        |CO            |9526 Noble Embers Ridge    |80126           |\n",
      "|Caguas       |XXXXXXXXX     |Ann           |3          |Smith         |XXXXXXXXX        |PR            |3422 Blue Pioneer Bend     |00725           |\n",
      "|San Marcos   |XXXXXXXXX     |Mary          |4          |Jones         |XXXXXXXXX        |CA            |8324 Little Common         |92069           |\n",
      "|Caguas       |XXXXXXXXX     |Robert        |5          |Hudson        |XXXXXXXXX        |PR            |10 Crystal River Mall      |00725           |\n",
      "|Passaic      |XXXXXXXXX     |Mary          |6          |Smith         |XXXXXXXXX        |NJ            |3151 Sleepy Quail Promenade|07055           |\n",
      "|Caguas       |XXXXXXXXX     |Melissa       |7          |Wilcox        |XXXXXXXXX        |PR            |9453 High Concession       |00725           |\n",
      "|Lawrence     |XXXXXXXXX     |Megan         |8          |Smith         |XXXXXXXXX        |MA            |3047 Foggy Forest Plaza    |01841           |\n",
      "|Caguas       |XXXXXXXXX     |Mary          |9          |Perez         |XXXXXXXXX        |PR            |3616 Quaking Street        |00725           |\n",
      "|Stafford     |XXXXXXXXX     |Melissa       |10         |Smith         |XXXXXXXXX        |VA            |8598 Harvest Beacon Plaza  |22554           |\n",
      "|Caguas       |XXXXXXXXX     |Mary          |11         |Huffman       |XXXXXXXXX        |PR            |3169 Stony Woods           |00725           |\n",
      "|San Antonio  |XXXXXXXXX     |Christopher   |12         |Smith         |XXXXXXXXX        |TX            |5594 Jagged Embers By-pass |78227           |\n",
      "|Caguas       |XXXXXXXXX     |Mary          |13         |Baldwin       |XXXXXXXXX        |PR            |7922 Iron Oak Gardens      |00725           |\n",
      "|Pico Rivera  |XXXXXXXXX     |Katherine     |14         |Smith         |XXXXXXXXX        |CA            |5666 Hazy Pony Square      |90660           |\n",
      "|Fontana      |XXXXXXXXX     |Jane          |15         |Luna          |XXXXXXXXX        |CA            |673 Burning Glen           |92336           |\n",
      "|Caguas       |XXXXXXXXX     |Tiffany       |16         |Smith         |XXXXXXXXX        |PR            |6651 Iron Port             |00725           |\n",
      "|Taylor       |XXXXXXXXX     |Mary          |17         |Robinson      |XXXXXXXXX        |MI            |1325 Noble Pike            |48180           |\n",
      "|Martinez     |XXXXXXXXX     |Robert        |18         |Smith         |XXXXXXXXX        |CA            |2734 Hazy Butterfly Circle |94553           |\n",
      "|Caguas       |XXXXXXXXX     |Stephanie     |19         |Mitchell      |XXXXXXXXX        |PR            |3543 Red Treasure Bay      |00725           |\n",
      "|West New York|XXXXXXXXX     |Mary          |20         |Ellis         |XXXXXXXXX        |NJ            |4703 Old Route             |07093           |\n",
      "+-------------+--------------+--------------+-----------+--------------+-----------------+--------------+---------------------------+----------------+\n",
      "only showing top 20 rows\n",
      "\n"
     ]
    }
   ],
   "source": [
    "spark.sql(\"select * from retail_db.customers_avro\").show(truncate=False)"
   ]
  },
  {
   "cell_type": "code",
   "execution_count": 4,
   "id": "b36d97d2-d296-4854-a528-b038099bf676",
   "metadata": {
    "tags": []
   },
   "outputs": [
    {
     "name": "stdout",
     "output_type": "stream",
     "text": [
      "+-------------+---------------+\n",
      "|department_id|department_name|\n",
      "+-------------+---------------+\n",
      "|2            |Fitness        |\n",
      "|3            |Footwear       |\n",
      "|4            |Apparel        |\n",
      "|5            |Golf           |\n",
      "|6            |Outdoors       |\n",
      "|7            |Fan Shop       |\n",
      "+-------------+---------------+\n",
      "\n"
     ]
    }
   ],
   "source": [
    "spark.sql(\"select * from retail_db.departments_avro\").show(truncate=False)"
   ]
  },
  {
   "cell_type": "code",
   "execution_count": 5,
   "id": "0541c55e-ebb6-4207-a961-55dea82a98e4",
   "metadata": {
    "tags": []
   },
   "outputs": [
    {
     "name": "stdout",
     "output_type": "stream",
     "text": [
      "+-----------------+-------------+--------+---------------+\n",
      "|order_customer_id|order_date   |order_id|order_status   |\n",
      "+-----------------+-------------+--------+---------------+\n",
      "|11599            |1374710400000|1       |CLOSED         |\n",
      "|256              |1374710400000|2       |PENDING_PAYMENT|\n",
      "|12111            |1374710400000|3       |COMPLETE       |\n",
      "|8827             |1374710400000|4       |CLOSED         |\n",
      "|11318            |1374710400000|5       |COMPLETE       |\n",
      "|7130             |1374710400000|6       |COMPLETE       |\n",
      "|4530             |1374710400000|7       |COMPLETE       |\n",
      "|2911             |1374710400000|8       |PROCESSING     |\n",
      "|5657             |1374710400000|9       |PENDING_PAYMENT|\n",
      "|5648             |1374710400000|10      |PENDING_PAYMENT|\n",
      "|918              |1374710400000|11      |PAYMENT_REVIEW |\n",
      "|1837             |1374710400000|12      |CLOSED         |\n",
      "|9149             |1374710400000|13      |PENDING_PAYMENT|\n",
      "|9842             |1374710400000|14      |PROCESSING     |\n",
      "|2568             |1374710400000|15      |COMPLETE       |\n",
      "|7276             |1374710400000|16      |PENDING_PAYMENT|\n",
      "|2667             |1374710400000|17      |COMPLETE       |\n",
      "|1205             |1374710400000|18      |CLOSED         |\n",
      "|9488             |1374710400000|19      |PENDING_PAYMENT|\n",
      "|9198             |1374710400000|20      |PROCESSING     |\n",
      "+-----------------+-------------+--------+---------------+\n",
      "only showing top 20 rows\n",
      "\n"
     ]
    }
   ],
   "source": [
    "spark.sql(\"select * from retail_db.orders_avro\").show(truncate=False)"
   ]
  },
  {
   "cell_type": "code",
   "execution_count": 8,
   "id": "58fac0bf-151a-46a5-a835-4fd4e8c2a11b",
   "metadata": {
    "tags": []
   },
   "outputs": [
    {
     "name": "stdout",
     "output_type": "stream",
     "text": [
      "+-------------+-------------------+---------------------+------------------------+-------------------+-------------------+\n",
      "|order_item_id|order_item_order_id|order_item_product_id|order_item_product_price|order_item_quantity|order_item_subtotal|\n",
      "+-------------+-------------------+---------------------+------------------------+-------------------+-------------------+\n",
      "|1            |1                  |957                  |299.98                  |1                  |299.98             |\n",
      "|2            |2                  |1073                 |199.99                  |1                  |199.99             |\n",
      "|3            |2                  |502                  |50.0                    |5                  |250.0              |\n",
      "|4            |2                  |403                  |129.99                  |1                  |129.99             |\n",
      "|5            |4                  |897                  |24.99                   |2                  |49.98              |\n",
      "|6            |4                  |365                  |59.99                   |5                  |299.95             |\n",
      "|7            |4                  |502                  |50.0                    |3                  |150.0              |\n",
      "|8            |4                  |1014                 |49.98                   |4                  |199.92             |\n",
      "|9            |5                  |957                  |299.98                  |1                  |299.98             |\n",
      "|10           |5                  |365                  |59.99                   |5                  |299.95             |\n",
      "|11           |5                  |1014                 |49.98                   |2                  |99.96              |\n",
      "|12           |5                  |957                  |299.98                  |1                  |299.98             |\n",
      "|13           |5                  |403                  |129.99                  |1                  |129.99             |\n",
      "|14           |7                  |1073                 |199.99                  |1                  |199.99             |\n",
      "|15           |7                  |957                  |299.98                  |1                  |299.98             |\n",
      "|16           |7                  |926                  |15.99                   |5                  |79.95              |\n",
      "|17           |8                  |365                  |59.99                   |3                  |179.97             |\n",
      "|18           |8                  |365                  |59.99                   |5                  |299.95             |\n",
      "|19           |8                  |1014                 |49.98                   |4                  |199.92             |\n",
      "|20           |8                  |502                  |50.0                    |1                  |50.0               |\n",
      "+-------------+-------------------+---------------------+------------------------+-------------------+-------------------+\n",
      "only showing top 20 rows\n",
      "\n"
     ]
    }
   ],
   "source": [
    "spark.sql(\"select * from retail_db.order_items_avro\").show(truncate=False)"
   ]
  },
  {
   "cell_type": "code",
   "execution_count": 9,
   "id": "a1b906c2-cac5-4430-ab38-9f616c08995e",
   "metadata": {
    "tags": []
   },
   "outputs": [
    {
     "name": "stdout",
     "output_type": "stream",
     "text": [
      "+-------------------+-------------------+----------+------------------------------------------------------------------------------------------------+---------------------------------------------+-------------+\n",
      "|product_category_id|product_description|product_id|product_image                                                                                   |product_name                                 |product_price|\n",
      "+-------------------+-------------------+----------+------------------------------------------------------------------------------------------------+---------------------------------------------+-------------+\n",
      "|2                  |                   |1         |http://images.acmesports.sports/Quest+Q64+10+FT.+x+10+FT.+Slant+Leg+Instant+Up+Canopy           |Quest Q64 10 FT. x 10 FT. Slant Leg Instant U|59.98        |\n",
      "|2                  |                   |2         |http://images.acmesports.sports/Under+Armour+Men%27s+Highlight+MC+Football+Cleat                |Under Armour Men's Highlight MC Football Clea|129.99       |\n",
      "|2                  |                   |3         |http://images.acmesports.sports/Under+Armour+Men%27s+Renegade+D+Mid+Football+Cleat              |Under Armour Men's Renegade D Mid Football Cl|89.99        |\n",
      "|2                  |                   |4         |http://images.acmesports.sports/Under+Armour+Men%27s+Renegade+D+Mid+Football+Cleat              |Under Armour Men's Renegade D Mid Football Cl|89.99        |\n",
      "|2                  |                   |5         |http://images.acmesports.sports/Riddell+Youth+Revolution+Speed+Custom+Football+Helmet           |Riddell Youth Revolution Speed Custom Footbal|199.99       |\n",
      "|2                  |                   |6         |http://images.acmesports.sports/Jordan+Men%27s+VI+Retro+TD+Football+Cleat                       |Jordan Men's VI Retro TD Football Cleat      |134.99       |\n",
      "|2                  |                   |7         |http://images.acmesports.sports/Schutt+Youth+Recruit+Hybrid+Custom+Football+Helmet+2014         |Schutt Youth Recruit Hybrid Custom Football H|99.99        |\n",
      "|2                  |                   |8         |http://images.acmesports.sports/Nike+Men%27s+Vapor+Carbon+Elite+TD+Football+Cleat               |Nike Men's Vapor Carbon Elite TD Football Cle|129.99       |\n",
      "|2                  |                   |9         |http://images.acmesports.sports/Nike+Adult+Vapor+Jet+3.0+Receiver+Gloves                        |Nike Adult Vapor Jet 3.0 Receiver Gloves     |50.0         |\n",
      "|2                  |                   |10        |http://images.acmesports.sports/Under+Armour+Men%27s+Highlight+MC+Football+Cleat                |Under Armour Men's Highlight MC Football Clea|129.99       |\n",
      "|2                  |                   |11        |http://images.acmesports.sports/Fitness+Gear+300+lb+Olympic+Weight+Set                          |Fitness Gear 300 lb Olympic Weight Set       |209.99       |\n",
      "|2                  |                   |12        |http://images.acmesports.sports/Under+Armour+Men%27s+Highlight+MC+Alter+Ego+Flash+Football...   |Under Armour Men's Highlight MC Alter Ego Fla|139.99       |\n",
      "|2                  |                   |13        |http://images.acmesports.sports/Under+Armour+Men%27s+Renegade+D+Mid+Football+Cleat              |Under Armour Men's Renegade D Mid Football Cl|89.99        |\n",
      "|2                  |                   |14        |http://images.acmesports.sports/Quik+Shade+Summit+SX170+10+FT.+x+10+FT.+Canopy                  |Quik Shade Summit SX170 10 FT. x 10 FT. Canop|199.99       |\n",
      "|2                  |                   |15        |http://images.acmesports.sports/Under+Armour+Kids%27+Highlight+RM+Alter+Ego+Superman+Football...|Under Armour Kids' Highlight RM Alter Ego Sup|59.99        |\n",
      "|2                  |                   |16        |http://images.acmesports.sports/Riddell+Youth+360+Custom+Football+Helmet                        |Riddell Youth 360 Custom Football Helmet     |299.99       |\n",
      "|2                  |                   |17        |http://images.acmesports.sports/Under+Armour+Men%27s+Highlight+MC+Football+Cleat                |Under Armour Men's Highlight MC Football Clea|129.99       |\n",
      "|2                  |                   |18        |http://images.acmesports.sports/Reebok+Men%27s+Full+Zip+Training+Jacket                         |Reebok Men's Full Zip Training Jacket        |29.97        |\n",
      "|2                  |                   |19        |http://images.acmesports.sports/Nike+Men%27s+Fingertrap+Max+Training+Shoe                       |Nike Men's Fingertrap Max Training Shoe      |124.99       |\n",
      "|2                  |                   |20        |http://images.acmesports.sports/Under+Armour+Men%27s+Highlight+MC+Football+Cleat                |Under Armour Men's Highlight MC Football Clea|129.99       |\n",
      "+-------------------+-------------------+----------+------------------------------------------------------------------------------------------------+---------------------------------------------+-------------+\n",
      "only showing top 20 rows\n",
      "\n"
     ]
    }
   ],
   "source": [
    "spark.sql(\"select * from retail_db.products_avro\").show(truncate=False)"
   ]
  },
  {
   "cell_type": "markdown",
   "id": "1f8fe072-3dda-4eed-b530-c2d5384a3cb6",
   "metadata": {},
   "source": [
    "### Enunciado 1\n",
    "Mostrar un Top 20 de clientes que mas productos compraron con sus respectivos montos."
   ]
  },
  {
   "cell_type": "code",
   "execution_count": 6,
   "id": "ad8c8d1d-37c6-435f-854a-a387457e91bb",
   "metadata": {
    "tags": []
   },
   "outputs": [
    {
     "name": "stderr",
     "output_type": "stream",
     "text": [
      "[Stage 6:>                                                          (0 + 4) / 4]\r"
     ]
    },
    {
     "name": "stdout",
     "output_type": "stream",
     "text": [
      "+-----------+--------------+--------------+--------------+-------------------+------------------+\n",
      "|customer_id|customer_fname|customer_lname|customer_email|quantity_item_total|             total|\n",
      "+-----------+--------------+--------------+--------------+-------------------+------------------+\n",
      "|        791|          Mary|         Smith|     XXXXXXXXX|                 82|10524.170177459717|\n",
      "|       8766|          Mary|        Duncan|     XXXXXXXXX|                 87| 9296.140186309814|\n",
      "|       1657|         Betty|      Phillips|     XXXXXXXXX|                111| 9223.710151672363|\n",
      "|       2641|         Betty|        Spears|     XXXXXXXXX|                 90| 9130.920223236084|\n",
      "|       1288|        Evelyn|      Thompson|     XXXXXXXXX|                 89|  9019.11019897461|\n",
      "|       3710|        Ashley|         Smith|     XXXXXXXXX|                 89|  9019.10020828247|\n",
      "|       5654|         Jerry|         Smith|     XXXXXXXXX|                103| 8904.950210571289|\n",
      "|       5624|          Mary|          Mata|     XXXXXXXXX|                 89| 8761.980182647705|\n",
      "|       5715|         Kelly|         Smith|     XXXXXXXXX|                 99| 8595.130157470703|\n",
      "|        664|         Bobby|       Jimenez|     XXXXXXXXX|                 76| 8394.260208129883|\n",
      "|       9371|          Mary|     Patterson|     XXXXXXXXX|                 79| 8359.140188217163|\n",
      "|      10351|        Teresa|          Gray|     XXXXXXXXX|                 69| 8339.260166168213|\n",
      "|       2292|        Ashley|         Smith|     XXXXXXXXX|                 91|  8293.04016494751|\n",
      "|       4663|          Paul|         Smith|     XXXXXXXXX|                 91| 8279.890161514282|\n",
      "|       3708|          Judy|        Miller|     XXXXXXXXX|                 82|  8275.09017944336|\n",
      "|       4249|          Mary|        Butler|     XXXXXXXXX|                 87| 8268.980131149292|\n",
      "|      12284|          Mary|         Smith|     XXXXXXXXX|                110| 8258.620170593262|\n",
      "|       5927|   Christopher|        Cooper|     XXXXXXXXX|                 82| 8169.130199432373|\n",
      "|       5004|       Dorothy|      Friedman|     XXXXXXXXX|                114| 8164.700141906738|\n",
      "|       1443|        Denise|         Cohen|     XXXXXXXXX|                 86| 8150.130157470703|\n",
      "+-----------+--------------+--------------+--------------+-------------------+------------------+\n",
      "\n"
     ]
    },
    {
     "name": "stderr",
     "output_type": "stream",
     "text": [
      "                                                                                \r"
     ]
    }
   ],
   "source": [
    "spark.sql(\"\"\"SELECT\n",
    "    customer_id, customer_fname, customer_lname, customer_email, sum(order_item_quantity) as quantity_item_total, sum(order_item_subtotal)as total\n",
    "FROM\n",
    "    retail_db.customers_avro as c\n",
    "INNER JOIN\n",
    "    retail_db.orders_avro as o\n",
    "    ON c.customer_id = o.order_customer_id\n",
    "INNER JOIN\n",
    "    retail_db.order_items_avro as oi\n",
    "    ON o.order_id = oi.order_item_order_id\n",
    "WHERE order_status <> 'CANCELED'\n",
    "GROUP BY customer_id, customer_fname, customer_lname, customer_email\n",
    "ORDER BY  total DESC\n",
    "LIMIT 20\"\"\").show()"
   ]
  },
  {
   "cell_type": "markdown",
   "id": "a02422d7-99b2-4c87-a46b-92e4f82fe94c",
   "metadata": {},
   "source": [
    "### Enunciado 2\n",
    "Mostrar las categorías con el total de productos vendidos y los montos totales por categoría"
   ]
  },
  {
   "cell_type": "code",
   "execution_count": 7,
   "id": "2e927a68-6441-46f9-a3a1-f19fd5a85354",
   "metadata": {
    "tags": []
   },
   "outputs": [
    {
     "name": "stdout",
     "output_type": "stream",
     "text": [
      "+-------------------+-------------+-------+\n",
      "|      category_name|item_quantity|  total|\n",
      "+-------------------+-------------+-------+\n",
      "|   Camping & Hiking|        13729|4118425|\n",
      "|Fitness Accessories|          856|  35601|\n",
      "|         Golf Shoes|         1444| 107998|\n",
      "|     Men's Footwear|        22246|2891757|\n",
      "|        Electronics|         9436| 371034|\n",
      "|    Women's Apparel|        62956|3147800|\n",
      "|     Girls' Apparel|         3615| 151706|\n",
      "|       Boxing & MMA|         1265|  85205|\n",
      "|Baseball & Softball|         1785|  94057|\n",
      "| Hunting & Shooting|         1239|  56848|\n",
      "|       Golf Apparel|         1025|  34969|\n",
      "|           Trade-In|         2822|  68721|\n",
      "|      Shop By Sport|        32726|1309522|\n",
      "|            Fishing|        17325|6929653|\n",
      "|       Water Sports|        15540|3113844|\n",
      "|        Accessories|         5349| 133671|\n",
      "|        Golf Gloves|         2961| 116695|\n",
      "|             Cleats|        73734|4431942|\n",
      "|         Golf Balls|         4384|  77098|\n",
      "|             Hockey|         1711|  48360|\n",
      "+-------------------+-------------+-------+\n",
      "only showing top 20 rows\n",
      "\n"
     ]
    }
   ],
   "source": [
    "spark.sql(\"\"\"SELECT\n",
    "    ca.category_name, sum(order_item_quantity) as item_quantity, cast(sum(order_item_subtotal) AS INT )as total\n",
    "FROM retail_db.order_items_avro as oi\n",
    "INNER JOIN\n",
    "    retail_db.products_avro as p\n",
    "    ON oi.order_item_product_id = p.product_id\n",
    "INNER JOIN\n",
    "    retail_db.categories_avro as ca\n",
    "    ON p.product_category_id = ca.category_id\n",
    "GROUP BY ca.category_name;\n",
    "\"\"\").show()"
   ]
  },
  {
   "cell_type": "markdown",
   "id": "bc3d8ccf-1103-499d-aa05-73b0756efd08",
   "metadata": {},
   "source": [
    "### Enunciado 3\n",
    "Mostrar la categoría más vendida por ciudad"
   ]
  },
  {
   "cell_type": "code",
   "execution_count": 8,
   "id": "aba5d0ec-5bba-43a0-92c4-48ff032e0eaa",
   "metadata": {
    "tags": []
   },
   "outputs": [
    {
     "name": "stdout",
     "output_type": "stream",
     "text": [
      "+-----------------+--------------------+\n",
      "|    customer_city|       category_name|\n",
      "+-----------------+--------------------+\n",
      "|        Aguadilla|              Cleats|\n",
      "|          Alameda|              Cleats|\n",
      "|           Albany|     Women's Apparel|\n",
      "|      Albuquerque|              Cleats|\n",
      "|        Algonquin|              Cleats|\n",
      "|         Alhambra|     Women's Apparel|\n",
      "|        Allentown|              Cleats|\n",
      "|       Alpharetta|      Men's Footwear|\n",
      "|         Amarillo|              Cleats|\n",
      "|         Amarillo|Indoor/Outdoor Games|\n",
      "|          Anaheim|     Women's Apparel|\n",
      "|        Ann Arbor|     Women's Apparel|\n",
      "|        Annandale|      Men's Footwear|\n",
      "|        Annapolis|      Men's Footwear|\n",
      "|          Antioch|Indoor/Outdoor Games|\n",
      "|             Apex|              Cleats|\n",
      "|           Apopka|             Fishing|\n",
      "|          Arecibo|     Women's Apparel|\n",
      "|        Arlington|     Women's Apparel|\n",
      "|Arlington Heights|     Women's Apparel|\n",
      "+-----------------+--------------------+\n",
      "only showing top 20 rows\n",
      "\n"
     ]
    }
   ],
   "source": [
    "spark.sql(\"\"\"\n",
    "SELECT\n",
    "    customer_city, category_name\n",
    "FROM (SELECT\n",
    "    customer_city, category_name, count(category_name) as quantity, DENSE_RANK () OVER ( \n",
    "                PARTITION BY customer_city \n",
    "                ORDER BY count(category_name) DESC\n",
    "            ) rank\n",
    "    FROM\n",
    "        retail_db.customers_avro as c\n",
    "    INNER JOIN\n",
    "        retail_db.orders_avro as o\n",
    "        ON c.customer_id = o.order_customer_id\n",
    "    INNER JOIN\n",
    "        retail_db.order_items_avro as oi\n",
    "        ON o.order_id = oi.order_item_order_id\n",
    "    INNER JOIN\n",
    "        retail_db.products_avro as p\n",
    "        ON oi.order_item_product_id = p.product_id\n",
    "    INNER JOIN\n",
    "        retail_db.categories_avro as ca\n",
    "        ON p.product_category_id = ca.category_id\n",
    "    GROUP BY customer_city, category_name\n",
    "    ) t\n",
    "WHERE rank = 1;\"\"\").show()"
   ]
  },
  {
   "cell_type": "markdown",
   "id": "b81df90c-fab3-44dc-a485-b063f806a9ef",
   "metadata": {},
   "source": [
    "### Enunciado 4\n",
    "Mostrar los 5 productos más vendidos por cada ciudad y el monto recaudado"
   ]
  },
  {
   "cell_type": "code",
   "execution_count": 13,
   "id": "985160ac-0c23-43be-87c9-45b3c2b5db00",
   "metadata": {
    "tags": []
   },
   "outputs": [
    {
     "name": "stderr",
     "output_type": "stream",
     "text": [
      "[Stage 30:=============================>                            (2 + 2) / 4]\r"
     ]
    },
    {
     "name": "stdout",
     "output_type": "stream",
     "text": [
      "+-------------+--------------------+--------+------------------+\n",
      "|customer_city|        product_name|quantity|             total|\n",
      "+-------------+--------------------+--------+------------------+\n",
      "|       Caguas|Perfect Fitness P...|   27276|1636287.2855148315|\n",
      "|       Caguas|Nike Men's Dri-FI...|   23355|         1167750.0|\n",
      "|       Caguas|O'Brien Men's Neo...|   21590|1079068.1897773743|\n",
      "|       Caguas|Nike Men's Free 5...|   13530|1352864.6990203857|\n",
      "|       Caguas|Under Armour Girl...|   11713| 468402.8778114319|\n",
      "|      Chicago|Perfect Fitness P...|    1540| 92384.60255813599|\n",
      "|  Los Angeles|Perfect Fitness P...|    1423| 85365.77238464355|\n",
      "|      Chicago|Nike Men's Dri-FI...|    1391|           69550.0|\n",
      "|      Chicago|O'Brien Men's Neo...|    1278| 63874.43938827515|\n",
      "|     Brooklyn|Perfect Fitness P...|    1251| 75047.49206924438|\n",
      "|     Brooklyn|Nike Men's Dri-FI...|    1237|           61850.0|\n",
      "|  Los Angeles|Nike Men's Dri-FI...|    1194|           59700.0|\n",
      "|     Brooklyn|O'Brien Men's Neo...|    1185|59226.299503326416|\n",
      "|  Los Angeles|O'Brien Men's Neo...|    1120|55977.599559783936|\n",
      "|      Chicago|Nike Men's Free 5...|     789| 78892.11010742188|\n",
      "|  Los Angeles|Nike Men's Free 5...|     737|  73692.6298751831|\n",
      "|     Brooklyn|Nike Men's Free 5...|     721| 72092.78977966309|\n",
      "|     New York|Perfect Fitness P...|     719| 43132.81119918823|\n",
      "|        Bronx|Perfect Fitness P...|     688| 41273.12115097046|\n",
      "|     New York|Nike Men's Dri-FI...|     661|           33050.0|\n",
      "+-------------+--------------------+--------+------------------+\n",
      "only showing top 20 rows\n",
      "\n"
     ]
    },
    {
     "name": "stderr",
     "output_type": "stream",
     "text": [
      "                                                                                \r"
     ]
    }
   ],
   "source": [
    "spark.sql(\"\"\"\n",
    "SELECT\n",
    "    customer_city, product_name, quantity, total\n",
    "FROM (SELECT\n",
    "    customer_city, product_name,sum(order_item_quantity) as quantity,sum(order_item_subtotal) as total, DENSE_RANK () OVER ( \n",
    "                PARTITION BY customer_city \n",
    "                ORDER BY sum(order_item_quantity) DESC\n",
    "            ) rank\n",
    "    FROM\n",
    "        retail_db.customers_avro as c\n",
    "    INNER JOIN\n",
    "        retail_db.orders_avro as o\n",
    "        ON c.customer_id = o.order_customer_id\n",
    "    INNER JOIN\n",
    "        retail_db.order_items_avro as oi\n",
    "        ON o.order_id = oi.order_item_order_id\n",
    "    INNER JOIN\n",
    "        retail_db.products_avro as p\n",
    "        ON oi.order_item_product_id = p.product_id\n",
    "    GROUP BY customer_city, product_name\n",
    "    ) t\n",
    "WHERE rank < 6\n",
    "ORDER BY quantity DESC;\n",
    "\"\"\").show()"
   ]
  },
  {
   "cell_type": "code",
   "execution_count": null,
   "id": "169cbead-c7bc-45a1-8c04-34b6423fafd7",
   "metadata": {},
   "outputs": [],
   "source": []
  }
 ],
 "metadata": {
  "kernelspec": {
   "display_name": "Python 3 (ipykernel)",
   "language": "python",
   "name": "python3"
  },
  "language_info": {
   "codemirror_mode": {
    "name": "ipython",
    "version": 3
   },
   "file_extension": ".py",
   "mimetype": "text/x-python",
   "name": "python",
   "nbconvert_exporter": "python",
   "pygments_lexer": "ipython3",
   "version": "3.9.19"
  }
 },
 "nbformat": 4,
 "nbformat_minor": 5
}
